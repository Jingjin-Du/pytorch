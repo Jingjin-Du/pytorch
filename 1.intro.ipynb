{
 "cells": [
  {
   "cell_type": "code",
   "execution_count": 1,
   "metadata": {},
   "outputs": [],
   "source": [
    "import torch\n",
    "import torchvision\n"
   ]
  },
  {
   "cell_type": "code",
   "execution_count": 2,
   "metadata": {
    "tags": []
   },
   "outputs": [
    {
     "output_type": "stream",
     "name": "stdout",
     "text": "tensor([[0., 0., 0.],\n        [0., 0., 0.]])\ntensor([[0.5886, 0.2980, 0.9123],\n        [0.8492, 0.5648, 0.9989]])\ntensor([[0, 0, 0],\n        [0, 0, 0]])\ntensor([[0.7536, 0.8188, 0.4514],\n        [0.1547, 0.5083, 0.7540]])\n"
    }
   ],
   "source": [
    "#创建矩阵\n",
    "x = torch.empty(2, 3)\n",
    "print(x)\n",
    "x = torch.rand(2, 3)\n",
    "print(x)\n",
    "x = torch.zeros(2, 3, dtype = torch.long)\n",
    "print(x)\n",
    "y = torch.rand_like(x, dtype = torch.float)\n",
    "print(y)\n"
   ]
  },
  {
   "cell_type": "code",
   "execution_count": 3,
   "metadata": {
    "tags": []
   },
   "outputs": [
    {
     "output_type": "stream",
     "name": "stdout",
     "text": "tensor([[0.7802, 1.3632, 0.5278],\n        [0.1929, 0.8303, 1.0318]])\ntensor([[0.7802, 1.3632, 0.5278],\n        [0.1929, 0.8303, 1.0318]])\ntensor([[0.7802, 1.3632, 0.5278],\n        [0.1929, 0.8303, 1.0318]])\ntensor([[0.7802, 1.3632, 0.5278],\n        [0.1929, 0.8303, 1.0318]])\n"
    }
   ],
   "source": [
    "#运算\n",
    "x = torch.rand(2, 3)\n",
    "y = torch.rand_like(x)\n",
    "print(x + y)\n",
    "z = torch.empty_like(x)\n",
    "z = x + y\n",
    "print(z)\n",
    "z = torch.empty_like(x)\n",
    "torch.add(x, y, out = z)\n",
    "print(z)\n",
    "y.add_(x)\n",
    "print(y)\n"
   ]
  },
  {
   "cell_type": "code",
   "execution_count": 7,
   "metadata": {
    "tags": []
   },
   "outputs": [
    {
     "output_type": "stream",
     "name": "stdout",
     "text": "tensor([[0.2749, 0.5912, 0.1080],\n        [0.2716, 0.6981, 0.7224]])\ntensor([0.7033, 0.4926, 0.8097, 0.6494, 0.5317, 0.9982])\ntensor([[0.7033, 0.4926],\n        [0.8097, 0.6494],\n        [0.5317, 0.9982]])\ntensor([[0.2749, 0.5912, 0.1080],\n        [0.2716, 0.6981, 0.7224]])\ntensor([0.4678])\n0.46775567531585693\n"
    }
   ],
   "source": [
    "#tensor改变形状\n",
    "x = torch.rand(2, 3)\n",
    "print(y)\n",
    "y = x.view(6)\n",
    "print(y)\n",
    "y = x.view(3, 2)\n",
    "print(y)\n",
    "y = z.view(-1, 3)  #-1可以看作补余，他的具体值由其他维度来确定\n",
    "print(y)\n",
    "\n",
    "#单元素tensor可以提取为标量\n",
    "x = torch.rand(1)\n",
    "print(x)\n",
    "print(x.item())"
   ]
  },
  {
   "cell_type": "code",
   "execution_count": 13,
   "metadata": {
    "tags": []
   },
   "outputs": [
    {
     "output_type": "stream",
     "name": "stdout",
     "text": "tensor([[1., 1.],\n        [1., 1.]], requires_grad=True)\ntensor([[3., 3.],\n        [3., 3.]], grad_fn=<AddBackward0>)\ntensor([[27., 27.],\n        [27., 27.]], grad_fn=<MulBackward0>) tensor(27., grad_fn=<MeanBackward0>)\ntensor([[4.5000, 4.5000],\n        [4.5000, 4.5000]])\nNone\n"
    }
   ],
   "source": [
    "#自动微分\n",
    "x = torch.ones(2, 2, requires_grad=True)\n",
    "print(x)\n",
    "y = x + 2\n",
    "print(y)\n",
    "z = y*y*3\n",
    "out = z.mean()\n",
    "print(z, out)\n",
    "out.backward()\n",
    "print(x.grad)\n",
    "print(y.grad)"
   ]
  },
  {
   "cell_type": "code",
   "execution_count": 21,
   "metadata": {
    "tags": []
   },
   "outputs": [
    {
     "output_type": "stream",
     "name": "stdout",
     "text": "tensor([2., 2., 2.], grad_fn=<MulBackward0>) tensor(3.4641)\ntensor([4., 4., 4.], grad_fn=<MulBackward0>) tensor(6.9282)\ntensor([8., 8., 8.], grad_fn=<MulBackward0>) tensor(13.8564)\ntensor([16., 16., 16.], grad_fn=<MulBackward0>) tensor(27.7128)\ntensor([32., 32., 32.], grad_fn=<MulBackward0>) tensor(55.4256)\ntensor([64., 64., 64.], grad_fn=<MulBackward0>) tensor(110.8512)\ntensor([128., 128., 128.], grad_fn=<MulBackward0>) tensor(221.7025)\ntensor([256., 256., 256.], grad_fn=<MulBackward0>) tensor(443.4050)\ntensor([512., 512., 512.], grad_fn=<MulBackward0>) tensor(886.8100)\ntensor([1024., 1024., 1024.], grad_fn=<MulBackward0>)\ntensor([1024., 1024., 1024.])\n"
    }
   ],
   "source": [
    "#另一个例子\n",
    "x = torch.ones(3, requires_grad=True)\n",
    "y = x * 2\n",
    "while y.data.norm() < 1000:\n",
    "    print(y, y.data.norm())\n",
    "    y = y * 2\n",
    "print(y)\n",
    "v = torch.tensor([2.0, 1.0, 1.0], dtype=torch.float)\n",
    "y.backward(v)\n",
    "\n",
    "print(x.grad)"
   ]
  }
 ],
 "metadata": {
  "kernelspec": {
   "display_name": "Python 3",
   "language": "python",
   "name": "python3"
  },
  "language_info": {
   "codemirror_mode": {
    "name": "ipython",
    "version": 3
   },
   "file_extension": ".py",
   "mimetype": "text/x-python",
   "name": "python",
   "nbconvert_exporter": "python",
   "pygments_lexer": "ipython3",
   "version": "3.7.6-final"
  }
 },
 "nbformat": 4,
 "nbformat_minor": 4
}